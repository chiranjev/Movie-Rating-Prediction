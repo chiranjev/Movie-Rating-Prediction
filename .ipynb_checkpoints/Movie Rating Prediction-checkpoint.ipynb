{
 "cells": [
  {
   "cell_type": "markdown",
   "metadata": {},
   "source": [
    "## Importing the libraries"
   ]
  },
  {
   "cell_type": "code",
   "execution_count": 4,
   "metadata": {},
   "outputs": [],
   "source": [
    "import numpy as np\n",
    "import pandas as pd\n",
    "import matplotlib.pyplot as plt\n",
    "import clean_text as ct\n",
    "from sklearn.feature_extraction.text import CountVectorizer\n",
    "from sklearn.naive_bayes import MultinomialNB,BernoulliNB,GaussianNB"
   ]
  },
  {
   "cell_type": "markdown",
   "metadata": {},
   "source": [
    "## Importing the dataset"
   ]
  },
  {
   "cell_type": "code",
   "execution_count": 5,
   "metadata": {},
   "outputs": [],
   "source": [
    "X_train = pd.read_csv('dataset/imdb_trainX.txt',sep = '\\n',header = None).values\n",
    "Y_train = pd.read_csv('dataset/imdb_trainY.txt',sep = '\\n',header = None).values.reshape((-1,))\n",
    "X_test = pd.read_csv('dataset/imdb_testX.txt',sep = '\\n',header = None).values\n",
    "Y_test = pd.read_csv('dataset/imdb_testY.txt',sep = '\\n',header = None).values.reshape((-1,))"
   ]
  },
  {
   "cell_type": "code",
   "execution_count": 6,
   "metadata": {},
   "outputs": [
    {
     "name": "stdout",
     "output_type": "stream",
     "text": [
      "<class 'numpy.ndarray'>\n",
      "(25000, 1)\n",
      "(25000,)\n",
      "(25000, 1)\n",
      "(25000,)\n"
     ]
    }
   ],
   "source": [
    "print(type(X_train))\n",
    "print(X_train.shape)\n",
    "print(Y_train.shape)\n",
    "print(X_test.shape)\n",
    "print(Y_test.shape)"
   ]
  },
  {
   "cell_type": "code",
   "execution_count": 7,
   "metadata": {},
   "outputs": [
    {
     "name": "stdout",
     "output_type": "stream",
     "text": [
      "[\"I loved this movie since I was 7 and I saw it on the opening day. It was so touching and beautiful. I strongly recommend seeing for all. It's a movie to watch with your family by far.<br /><br />My MPAA rating: PG-13 for thematic elements, prolonged scenes of disastor, nudity/sexuality and some language.\"]\n",
      "[\"First things first, Edison Chen did a fantastic, believable job as a Cambodian hit-man, born and bred in the dumps and a gladiatorial ring, where he honed his craft of savage battery in order to survive, living on the mantra of kill or be killed. In a role that had little dialogue, or at least a few lines in Cambodian/Thai, his performance is compelling, probably what should have been in the Jet Li vehicle Danny the Dog, where a man is bred for the sole purpose of fighting, and on someone else's leash.<br /><br />Like Danny the Dog, the much talked about bare knuckle fight sequences are not choreographed stylistically, but rather designed as normal, brutal fisticuffs, where everything goes. This probably brought a sense of realism and grit when you see the characters slug it out at each other's throats, in defending their own lives while taking it away from others. It's a grim, gritty and dark movie both literally and figuratively, and this sets it apart from the usual run off the mill cop thriller production.<br /><br />Edison plays a hired gun from Cambodia, who becomes a fugitive in Hong Kong, on the run from the cops as his pickup had gone awry. Leading the chase is the team led by Cheung Siu-Fai, who has to contend with maverick member Inspector Ti (Sam Lee), who's inclusion and acceptance in the team had to do with the sins of his father. So begins a cat and mouse game in the dark shades and shadows of the seedier looking side of Hong Kong.<br /><br />The story itself works on multiple levels, especially in the character studies of the hit-man, and the cop. On opposite sides of the law, we see within each character not the black and white, but the shades of grey. With the hit-man, we see his caring side when he got hooked up and developed feelings of love for a girl (Pei Pei), bringing about a sense of maturity, tenderness, and revealing a heart of gold. The cop, with questionable tactics and attitudes, makes you wonder how one would buckle when willing to do anything it takes to get the job done. There are many interesting moments of moral questioning, on how anti-hero, despicable strategies are adopted. You'll ask, what makes a man, and what makes a beast, and if we have the tendency to switch sides depending on circumstances - do we have that dark inner streak in all of us, transforming from man to dog, and dog to man? Dog Bite Dog grips you from the start and never lets go until the end, though there are points mid way through that seemed to drag, especially on its tender moments, and it suffered too from not knowing when to end. If I should pick a favourite scene, then it must be the one in the market food centre - extremely well controlled and delivered, a suspenseful edge of your seat moment. Listen out for the musical score too, and you're not dreaming if you hear growls of dogs.<br /><br />Highly recommended, especially if you think that you've seen about almost everything from the cop thriller genre.\"]\n",
      "['Once again, I was browsing through the discount video bin and picked up this movie for $4.88. Fifty-percent of the time the movies I find in the bin are pure crap (I mean horrible beyond belief) but half the time they turn out to be surprisingly good. This movie is much better than I expected. I found it very engaging, though it was obviously made by an amateur.<br /><br /> The direction is nothing special, but the story is intriguing with some good thrills. I expected it to be more of a comedy, but I wasn\\'t too disappointed.<br /><br /> For a thriller, this movie is surprisingly good-natured. There\\'s no bloody violence, no profanity, no nudity, no sex. Usually, these movies require all four of those elements. The PG rating is well-deserved--not like \"Sixteen Candles\" where the \"f\" word is used twice and there\\'s a brief gratuitous nude scene.<br /><br /> I just wish the romance between Corey Haim and his love interest could\\'ve been developed more. The film does tend to be plot-heavy, and the potentially good subplots are pushed off to the side. Instead of developing a chemistry between the two of them, we end up watching a careless three-minute montage of them on their romantic endeavors. They end up kissing at the end, but there\\'s so little chemistry that it seems forced.<br /><br />\"The Dream Machine\" is no gem, but it\\'s good, clean entertainment. It\\'s quite forgettable--especially with a cast of unknowns, except for Haim--but it\\'s also much better than you\\'d expect.<br /><br /> My score: 7 (out of 10)']\n"
     ]
    }
   ],
   "source": [
    "print(X_train[0])\n",
    "print(X_train[1])\n",
    "print(X_train[2])"
   ]
  },
  {
   "cell_type": "code",
   "execution_count": 8,
   "metadata": {},
   "outputs": [
    {
     "name": "stdout",
     "output_type": "stream",
     "text": [
      "[10  8  7]\n"
     ]
    }
   ],
   "source": [
    "print(Y_train[:3])"
   ]
  },
  {
   "cell_type": "code",
   "execution_count": 9,
   "metadata": {},
   "outputs": [
    {
     "name": "stdout",
     "output_type": "stream",
     "text": [
      "[\"not really sure what to make of this movie. very weird, very artsy. not the kind of movie you watch because it has a compelling plot or characters. more like the kind of movie that you can't stop watching because of the horrifically fascinating things happening on screen. although, the first time my wife watched this she couldn't make it all the way through... too disturbing for her. runs a bit long, but nonetheless a worthwhile viewing for those interested in very dark movies.\"]\n",
      "[\"If you enjoyed films like Pulp Fiction, Reservoir Dogs, and Lock, Stock, and Two Smoking Barrels, you are going to LOVE Two Hands. It has the same type of black humor beat to it and will keep you entertained through the whole film. Like Pulp Fiction, it has the wacky scenarios that the characters get into and how they deal with them. Along with Gallipoli and Picnic at Hanging Rock, this has to be one of the best Australian films I've seen. It also stars a young Heath Ledger before he got real big in the states.<br /><br />This is a terribly underrated movie that I believe is just as good as Pulp Fiction and those greats. You have to see it!\"]\n",
      "[\"Okay, here's the deal. There's this American pilot who's flying along, minding his own business, when suddenly he's outnumbered by evil, cowardly non-American fighter planes (they're Middle Eastern types, but suffice to say they don't like apple pie or Elvis Presley), who proceed to shoot him down. Now this American pilot was doing nothing wrong, but those evil non-Americans didn't care and before you know it he's banged up in a foreign jail and sentenced to death!!<br /><br />Now, what would normally happen here is that the US Military would carpet bomb a couple of nearby towns until the pilot was released, but not this time. Those evil peace lovin' types probably got involved and managed to stop any kind of retaliatory massacre. As you can imagine, this doesn't please the pilot's family and the evil foreign dictator has this smug, contented look about him. He'll make those Americans pay, oh yes indeed!<br /><br />But He didn't reckon on Doug Masters, the captured pilots 16-year-old son. You see Doug has been able to fly a plane longer than he can drive a car, (which can't be that long) and decides to fly into that evil, foreign country and get his Dad back. So with the help of his friends, Doug and his wingman, retired pilot \\x91Chappy' Sinclair, Doug launches a two man air raid on the foreigners. <br /><br />Now you'd think that this plan would be bound to fail, but you'd be wrong. Sure, those Middle Eastern types might be all veteran pilots, but Doug's got an ace up his sleeve, he listens to rock music when he flies! After shooting down a dozen or so enemy planes and blowing up an oil refinery, Doug lands at an airport and gets his now wounded dad onboard the plane. Understandably, the evil, not quite so smug anymore, dictator gets quite annoyed at these antics and takes to the skies himself, in bid to shoot down Doug. But the young lad listens to some more rock music and blows the villain out of the sky. HURRAH!<br /><br />After Doug and Chappy have shot down 90% of their air force, the foreigners send up their last few planes in a rather poor attempt to shoot Doug down, but in the nick of time, a flight of US F16s turn up and scare them away.<br /><br />I cannot recommend this film enough. It was the first ever videocassette movie that I brought, and until I was twenty, I kept hoping that my dad would get shot down over a foreign country so that I could rescue him. But he's doesn't like flying, so it didn't happen.\"]\n"
     ]
    }
   ],
   "source": [
    "print(X_test[0])\n",
    "print(X_test[1])\n",
    "print(X_test[2])"
   ]
  },
  {
   "cell_type": "code",
   "execution_count": 10,
   "metadata": {},
   "outputs": [
    {
     "name": "stdout",
     "output_type": "stream",
     "text": [
      "[ 7 10 10]\n"
     ]
    }
   ],
   "source": [
    "print(Y_test[:3])"
   ]
  },
  {
   "cell_type": "markdown",
   "metadata": {},
   "source": [
    "## 1. Cleaning the dataset"
   ]
  },
  {
   "cell_type": "code",
   "execution_count": 11,
   "metadata": {},
   "outputs": [],
   "source": [
    "X_train_clean = [ct.getCleanReview(review) for review in X_train]\n",
    "X_test_clean = [ct.getCleanReview(review) for review in X_test]"
   ]
  },
  {
   "cell_type": "code",
   "execution_count": 12,
   "metadata": {},
   "outputs": [
    {
     "data": {
      "text/plain": [
       "'\\nfor review in X_train:\\n    review = str(review)\\n    print(type(review))\\n    print(review)\\n    break\\n'"
      ]
     },
     "execution_count": 12,
     "metadata": {},
     "output_type": "execute_result"
    }
   ],
   "source": [
    "'''\n",
    "for review in X_train:\n",
    "    review = str(review)\n",
    "    print(type(review))\n",
    "    print(review)\n",
    "    break\n",
    "'''"
   ]
  },
  {
   "cell_type": "code",
   "execution_count": 13,
   "metadata": {},
   "outputs": [
    {
     "name": "stdout",
     "output_type": "stream",
     "text": [
      "<class 'list'>\n"
     ]
    }
   ],
   "source": [
    "print(type(X_train_clean))"
   ]
  },
  {
   "cell_type": "code",
   "execution_count": 14,
   "metadata": {},
   "outputs": [
    {
     "name": "stdout",
     "output_type": "stream",
     "text": [
      "love movi sinc 7 saw open day touch beauti strongli recommend see movi watch famili far mpaa rate pg 13 themat element prolong scene disastor nuditi sexual languag\n",
      "\n",
      "first thing first edison chen fantast believ job cambodian hit man born bred dump gladiatori ring hone craft savag batteri order surviv live mantra kill kill role littl dialogu least line cambodian thai perform compel probabl jet li vehicl danni dog man bred sole purpos fight someon els leash like danni dog much talk bare knuckl fight sequenc not choreograph stylist rather design normal brutal fisticuff everyth goe probabl brought sens realism grit see charact slug throat defend live take away other grim gritti dark movi liter figur set apart usual run mill cop thriller product edison play hire gun cambodia becom fugit hong kong run cop pickup gone awri lead chase team led cheung siu fai contend maverick member inspector ti sam lee inclus accept team sin father begin cat mous game dark shade shadow seedier look side hong kong stori work multipl level especi charact studi hit man cop opposit side law see within charact not black white shade grey hit man see care side got hook develop feel love girl pei pei bring sens matur tender reveal heart gold cop question tactic attitud make wonder one would buckl will anyth take get job done mani interest moment moral question anti hero despic strategi adopt ask make man make beast tendenc switch side depend circumst dark inner streak us transform man dog dog man dog bite dog grip start never let go end though point mid way seem drag especi tender moment suffer not know end pick favourit scene must one market food centr extrem well control deliv suspens edg seat moment listen music score not dream hear growl dog highli recommend especi think seen almost everyth cop thriller genr\n",
      "\n",
      "again brows discount video bin pick movi 4 88 fifti percent time movi find bin pure crap mean horribl beyond belief half time turn surprisingli good movi much better expect found veri engag though obvious made amateur direct noth special stori intrigu good thrill expect comedi disappoint thriller movi surprisingli good natur bloodi violenc profan nuditi sex usual movi requir four element pg rate well deserv not like sixteen candl f word use twice brief gratuit nude scene wish romanc corey haim love interest could develop film tend plot heavi potenti good subplot push side instead develop chemistri two end watch careless three minut montag romant endeavor end kiss end littl chemistri seem forc dream machin gem good clean entertain quit forgett especi cast unknown except haim also much better expect score 7 10\n",
      "\n"
     ]
    }
   ],
   "source": [
    "for i in range(3):\n",
    "    print(X_train_clean[i],end='\\n\\n')"
   ]
  },
  {
   "cell_type": "code",
   "execution_count": 15,
   "metadata": {},
   "outputs": [
    {
     "name": "stdout",
     "output_type": "stream",
     "text": [
      "not realli sure make movi veri weird veri artsi not kind movi watch compel plot charact like kind movi stop watch horrif fascin thing happen screen although first time wife watch make way disturb run bit long nonetheless worthwhil view interest veri dark movi\n",
      "\n",
      "enjoy film like pulp fiction reservoir dog lock stock two smoke barrel go love two hand type black humor beat keep entertain whole film like pulp fiction wacki scenario charact get deal along gallipoli picnic hang rock one best australian film seen also star young heath ledger got real big state terribl underr movi believ good pulp fiction great see\n",
      "\n",
      "okay deal american pilot fli along mind busi suddenli outnumb evil cowardli non american fighter plane middl eastern type suffic say like appl pie elvi presley proceed shoot american pilot noth wrong evil non american care know bang foreign jail sentenc death would normal happen us militari would carpet bomb coupl nearbi town pilot releas not time evil peac lovin type probabl got involv manag stop kind retaliatori massacr imagin pleas pilot famili evil foreign dictat smug content look make american pay oh ye inde reckon doug master captur pilot 16 year old son see doug abl fli plane longer drive car long decid fli evil foreign countri get dad back help friend doug wingman retir pilot x91chappi sinclair doug launch two man air raid foreign think plan would bound fail wrong sure middl eastern type might veteran pilot doug got ace sleev listen rock music fli shoot dozen enemi plane blow oil refineri doug land airport get wound dad onboard plane understand evil not quit smug anymor dictat get quit annoy antic take sky bid shoot doug young lad listen rock music blow villain sky hurrah doug chappi shot 90 air forc foreign send last plane rather poor attempt shoot doug nick time flight us f16 turn scare away cannot recommend film enough first ever videocassett movi brought twenti kept hope dad would get shot foreign countri could rescu like fli happen\n",
      "\n"
     ]
    }
   ],
   "source": [
    "for i in range(3):\n",
    "    print(X_test_clean[i],end='\\n\\n')"
   ]
  },
  {
   "cell_type": "markdown",
   "metadata": {},
   "source": [
    "## 2. Vectorization"
   ]
  },
  {
   "cell_type": "code",
   "execution_count": 50,
   "metadata": {},
   "outputs": [
    {
     "name": "stdout",
     "output_type": "stream",
     "text": [
      "[[0 0 0 ... 0 0 0]\n",
      " [0 0 0 ... 0 0 0]\n",
      " [0 0 0 ... 0 0 0]\n",
      " ...\n",
      " [0 0 0 ... 0 0 0]\n",
      " [0 0 0 ... 0 0 0]\n",
      " [0 0 0 ... 0 0 0]]\n",
      "(25000, 10000)\n"
     ]
    }
   ],
   "source": [
    "cv = CountVectorizer(binary=True) # Bag of words model\n",
    "\n",
    "X_train_vec = cv.fit_transform(X_train_clean).toarray()\n",
    "print(X_train_vec)\n",
    "print(X_train_vec.shape)"
   ]
  },
  {
   "cell_type": "code",
   "execution_count": 51,
   "metadata": {},
   "outputs": [
    {
     "name": "stdout",
     "output_type": "stream",
     "text": [
      "[[0 0 0 ... 0 0 0]\n",
      " [0 0 0 ... 0 0 0]\n",
      " [0 0 0 ... 0 0 0]\n",
      " ...\n",
      " [0 0 0 ... 0 0 0]\n",
      " [0 0 0 ... 0 0 0]\n",
      " [0 0 0 ... 0 0 0]]\n",
      "(25000, 10000)\n"
     ]
    }
   ],
   "source": [
    "## Vectorization on the test set\n",
    "X_test_vec = cv.transform(X_test_clean).toarray()\n",
    "print(X_test_vec)\n",
    "print(X_test_vec.shape)"
   ]
  },
  {
   "cell_type": "markdown",
   "metadata": {},
   "source": [
    "## 3. Multinomial Naive Bayes"
   ]
  },
  {
   "cell_type": "code",
   "execution_count": 52,
   "metadata": {},
   "outputs": [
    {
     "name": "stdout",
     "output_type": "stream",
     "text": [
      "MultinomialNB(alpha=1.0, class_prior=None, fit_prior=True)\n"
     ]
    }
   ],
   "source": [
    "mnb = MultinomialNB()\n",
    "print(mnb)"
   ]
  },
  {
   "cell_type": "code",
   "execution_count": 53,
   "metadata": {},
   "outputs": [
    {
     "data": {
      "text/plain": [
       "MultinomialNB(alpha=1.0, class_prior=None, fit_prior=True)"
      ]
     },
     "execution_count": 53,
     "metadata": {},
     "output_type": "execute_result"
    }
   ],
   "source": [
    "# Training\n",
    "mnb.fit(X_train_vec,Y_train)"
   ]
  },
  {
   "cell_type": "code",
   "execution_count": 54,
   "metadata": {},
   "outputs": [],
   "source": [
    "# Prediction\n",
    "y_test_pred = mnb.predict(X_test_vec)"
   ]
  },
  {
   "cell_type": "code",
   "execution_count": 55,
   "metadata": {},
   "outputs": [
    {
     "name": "stdout",
     "output_type": "stream",
     "text": [
      "0.60716\n",
      "0.37428\n"
     ]
    }
   ],
   "source": [
    "# Accuracy\n",
    "print(mnb.score(X_train_vec,Y_train))\n",
    "print(mnb.score(X_test_vec,Y_test))"
   ]
  },
  {
   "cell_type": "code",
   "execution_count": null,
   "metadata": {},
   "outputs": [],
   "source": []
  }
 ],
 "metadata": {
  "kernelspec": {
   "display_name": "Python 3",
   "language": "python",
   "name": "python3"
  },
  "language_info": {
   "codemirror_mode": {
    "name": "ipython",
    "version": 3
   },
   "file_extension": ".py",
   "mimetype": "text/x-python",
   "name": "python",
   "nbconvert_exporter": "python",
   "pygments_lexer": "ipython3",
   "version": "3.6.5"
  }
 },
 "nbformat": 4,
 "nbformat_minor": 2
}
